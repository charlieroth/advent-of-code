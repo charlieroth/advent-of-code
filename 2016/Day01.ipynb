{
 "cells": [
  {
   "cell_type": "code",
   "execution_count": 4,
   "metadata": {},
   "outputs": [],
   "source": [
    "import itertools"
   ]
  },
  {
   "cell_type": "markdown",
   "metadata": {},
   "source": [
    "# Advent of Code, 2016: Day 01\n",
    "\n",
    "--- Day 1: No Time for a Taxicab ---\n",
    "\n",
    "Santa's sleigh uses a very high-precision clock to guide its movements, and the clock's oscillator is regulated by stars. Unfortunately, the stars have been stolen... by the Easter Bunny. To save Christmas, Santa needs you to retrieve all fifty stars by December 25th.\n",
    "\n",
    "Collect stars by solving puzzles. Two puzzles will be made available on each day in the Advent calendar; the second puzzle is unlocked when you complete the first. Each puzzle grants one star. Good luck!\n",
    "\n",
    "You're airdropped near Easter Bunny Headquarters in a city somewhere. \"Near\", unfortunately, is as close as you can get - the instructions on the Easter Bunny Recruiting Document the Elves intercepted start here, and nobody had time to work them out further.\n",
    "\n",
    "The Document indicates that you should start at the given coordinates (where you just landed) and face North. Then, follow the provided sequence: either turn left (`L`) or right (`R`) 90 degrees, then walk forward the given number of blocks, ending at a new intersection.\n",
    "\n",
    "There's no time to follow such ridiculous instructions on foot, though, so you take a moment and work out the destination. Given that you can only walk on the street grid of the city, how far is the shortest path to the destination?\n",
    "\n",
    "For example:\n",
    "\n",
    "* Following `R2, L3` leaves you `2` blocks East and `3` blocks North, or `5` blocks away.\n",
    "* `R2, R2, R2` leaves you `2` blocks due South of your starting position, which is `2` blocks away.\n",
    "* `R5, L5, R5, R3` leaves you `12` blocks away.\n",
    "\n",
    "How many blocks away is Easter Bunny HQ?"
   ]
  },
  {
   "cell_type": "code",
   "execution_count": 5,
   "metadata": {},
   "outputs": [],
   "source": [
    "part1_test_input = \"\"\"\n",
    "R2, L3\n",
    "\"\"\""
   ]
  },
  {
   "cell_type": "code",
   "execution_count": 6,
   "metadata": {},
   "outputs": [],
   "source": [
    "input = \"\"\"\n",
    "R1, L4, L5, L5, R2, R2, L1, L1, R2, L3, R4, R3, R2, L4, L2, R5, L1, R5, L5, L2, L3, L1, R1, R4, R5, L3, R2, L4, L5, R1, R2, L3, R3, L3, L1, L2, R5, R4, R5, L5, R1, L190, L3, L3, R3, R4, R47, L3, R5, R79, R5, R3, R1, L4, L3, L2, R194, L2, R1, L2, L2, R4, L5, L5, R1, R1, L1, L3, L2, R5, L3, L3, R4, R1, R5, L4, R3, R1, L1, L2, R4, R1, L2, R4, R4, L5, R3, L5, L3, R1, R1, L3, L1, L1, L3, L4, L1, L2, R1, L5, L3, R2, L5, L3, R5, R3, L4, L2, R2, R4, R4, L4, R5, L1, L3, R3, R4, R4, L5, R4, R2, L3, R4, R2, R1, R2, L4, L2, R2, L5, L5, L3, R5, L5, L1, R4, L1, R1, L1, R4, L5, L3, R4, R1, L3, R4, R1, L3, L1, R1, R2, L4, L2, R1, L5, L4, L5\n",
    "\"\"\""
   ]
  },
  {
   "cell_type": "code",
   "execution_count": 7,
   "metadata": {},
   "outputs": [],
   "source": [
    "def part1(input: str):\n",
    "    instructions = input.strip().split(', ')\n",
    "    right_turn_dict = {'N': 'E', 'E': 'S', 'S': 'W', 'W': 'N'}\n",
    "    left_turn_dict = {'N': 'W', 'W': 'S', 'S': 'E', 'E': 'N'}\n",
    "\n",
    "    current_direction = 'N'\n",
    "    current_position = (0, 0)\n",
    "    for instruction in instructions:\n",
    "        direction, distance = instruction[0], int(instruction[1:])\n",
    "\n",
    "        if current_direction == 'N' and direction == 'R':\n",
    "            current_position = (current_position[0] + distance, current_position[1])\n",
    "            current_direction = right_turn_dict[current_direction]\n",
    "        elif current_direction == 'N' and direction == 'L':\n",
    "            current_position = (current_position[0] - distance, current_position[1])\n",
    "            current_direction = left_turn_dict[current_direction]\n",
    "        elif current_direction == 'E' and direction == 'R':\n",
    "            current_position = (current_position[0], current_position[1] - distance)\n",
    "            current_direction = right_turn_dict[current_direction]\n",
    "        elif current_direction == 'E' and direction == 'L':\n",
    "            current_position = (current_position[0], current_position[1] + distance)\n",
    "            current_direction = left_turn_dict[current_direction]\n",
    "        elif current_direction == 'S' and direction == 'R':\n",
    "            current_position = (current_position[0] - distance, current_position[1])\n",
    "            current_direction = right_turn_dict[current_direction]\n",
    "        elif current_direction == 'S' and direction == 'L':\n",
    "            current_position = (current_position[0] + distance, current_position[1])\n",
    "            current_direction = left_turn_dict[current_direction]\n",
    "        elif current_direction == 'W' and direction == 'R':\n",
    "            current_position = (current_position[0], current_position[1] + distance)\n",
    "            current_direction = right_turn_dict[current_direction]\n",
    "        elif current_direction == 'W' and direction == 'L':\n",
    "            current_position = (current_position[0], current_position[1] - distance)\n",
    "            current_direction = left_turn_dict[current_direction]\n",
    "\n",
    "    return abs(current_position[0]) + abs(current_position[1])\n",
    "    "
   ]
  },
  {
   "cell_type": "code",
   "execution_count": 8,
   "metadata": {},
   "outputs": [
    {
     "data": {
      "text/plain": [
       "5"
      ]
     },
     "execution_count": 8,
     "metadata": {},
     "output_type": "execute_result"
    }
   ],
   "source": [
    "part1(part1_test_input)"
   ]
  },
  {
   "cell_type": "code",
   "execution_count": 9,
   "metadata": {},
   "outputs": [
    {
     "data": {
      "text/plain": [
       "230"
      ]
     },
     "execution_count": 9,
     "metadata": {},
     "output_type": "execute_result"
    }
   ],
   "source": [
    "part1(input)"
   ]
  },
  {
   "cell_type": "markdown",
   "metadata": {},
   "source": [
    "--- Part Two ---\n",
    "\n",
    "Then, you notice the instructions continue on the back of the Recruiting Document. Easter Bunny HQ is actually at the first location you visit twice.\n",
    "\n",
    "For example, if your instructions are `R8, R4, R4, R8`, the first location you visit twice is `4` blocks away, due East.\n",
    "\n",
    "How many blocks away is the first location you visit twice?"
   ]
  },
  {
   "cell_type": "code",
   "execution_count": 10,
   "metadata": {},
   "outputs": [],
   "source": [
    "part2_test_input = \"\"\"\n",
    "R8, R4, R4, R8\n",
    "\"\"\""
   ]
  },
  {
   "cell_type": "code",
   "execution_count": 19,
   "metadata": {},
   "outputs": [],
   "source": [
    "def part2(input: str):\n",
    "    instructions = input.strip().split(', ')\n",
    "    right_turn_dict = {'N': 'E', 'E': 'S', 'S': 'W', 'W': 'N'}\n",
    "    left_turn_dict = {'N': 'W', 'W': 'S', 'S': 'E', 'E': 'N'}\n",
    "\n",
    "    positions_visited = set()\n",
    "    current_direction = 'N'\n",
    "    current_position = (0, 0)\n",
    "    for instruction in instructions:\n",
    "        print('-------------------')\n",
    "        direction, distance = instruction[0], int(instruction[1:])\n",
    "        next_position = None\n",
    "        next_direction = None\n",
    "\n",
    "        if current_direction == 'N' and direction == 'R':\n",
    "            next_position = (current_position[0] + distance, current_position[1])\n",
    "            next_direction = right_turn_dict[current_direction]\n",
    "        elif current_direction == 'N' and direction == 'L':\n",
    "            next_position = (current_position[0] - distance, current_position[1])\n",
    "            next_direction = left_turn_dict[current_direction]\n",
    "        elif current_direction == 'E' and direction == 'R':\n",
    "            next_position = (current_position[0], current_position[1] - distance)\n",
    "            next_direction = right_turn_dict[current_direction]\n",
    "        elif current_direction == 'E' and direction == 'L':\n",
    "            next_position = (current_position[0], current_position[1] + distance)\n",
    "            next_direction = left_turn_dict[current_direction]\n",
    "        elif current_direction == 'S' and direction == 'R':\n",
    "            next_position = (current_position[0] - distance, current_position[1])\n",
    "            next_direction = right_turn_dict[current_direction]\n",
    "        elif current_direction == 'S' and direction == 'L':\n",
    "            next_position = (current_position[0] + distance, current_position[1])\n",
    "            next_direction = left_turn_dict[current_direction]\n",
    "        elif current_direction == 'W' and direction == 'R':\n",
    "            next_direction = (current_position[0], current_position[1] + distance)\n",
    "            next_position = right_turn_dict[current_direction]\n",
    "        elif current_direction == 'W' and direction == 'L':\n",
    "            next_position = (current_position[0], current_position[1] - distance)\n",
    "            next_direction = left_turn_dict[current_direction]\n",
    "\n",
    "        print(f'current position: {current_position}')\n",
    "        print(f'next position: {next_position}')\n",
    "\n",
    "        xs = range(current_position[0], next_position[0] + 1)\n",
    "        ys = range(current_position[1], next_position[1] + 1)\n",
    "        path = zip(xs, ys)\n",
    "\n",
    "        for x, y in zip(xs, itertools.cycle(ys)):\n",
    "            print(f'evaluating ({x}, {y})')\n",
    "            if (x, y) in positions_visited:\n",
    "                print(f'current position already visited: {(x, y)}')\n",
    "                return abs(x) + abs(y)\n",
    "            else:\n",
    "                print(f'current position not visited, adding: {(x, y)}')\n",
    "                positions_visited.add((x, y))\n",
    "                current_position = (x, y)\n",
    "                current_direction = next_direction\n",
    "\n",
    "    return abs(current_position[0]) + abs(current_position[1])\n"
   ]
  },
  {
   "cell_type": "code",
   "execution_count": 21,
   "metadata": {},
   "outputs": [
    {
     "name": "stdout",
     "output_type": "stream",
     "text": [
      "-------------------\n",
      "current position: (0, 0)\n",
      "next position: (8, 0)\n",
      "evaluating (0, 0)\n",
      "current position not visited, adding: (0, 0)\n",
      "evaluating (1, 0)\n",
      "current position not visited, adding: (1, 0)\n",
      "evaluating (2, 0)\n",
      "current position not visited, adding: (2, 0)\n",
      "evaluating (3, 0)\n",
      "current position not visited, adding: (3, 0)\n",
      "evaluating (4, 0)\n",
      "current position not visited, adding: (4, 0)\n",
      "evaluating (5, 0)\n",
      "current position not visited, adding: (5, 0)\n",
      "evaluating (6, 0)\n",
      "current position not visited, adding: (6, 0)\n",
      "evaluating (7, 0)\n",
      "current position not visited, adding: (7, 0)\n",
      "evaluating (8, 0)\n",
      "current position not visited, adding: (8, 0)\n",
      "-------------------\n",
      "current position: (8, 0)\n",
      "next position: (8, -4)\n",
      "-------------------\n",
      "current position: (8, 0)\n",
      "next position: (8, -4)\n",
      "-------------------\n",
      "current position: (8, 0)\n",
      "next position: (8, -8)\n"
     ]
    },
    {
     "data": {
      "text/plain": [
       "8"
      ]
     },
     "execution_count": 21,
     "metadata": {},
     "output_type": "execute_result"
    }
   ],
   "source": [
    "part2(part2_test_input)"
   ]
  },
  {
   "cell_type": "code",
   "execution_count": 35,
   "metadata": {},
   "outputs": [
    {
     "name": "stdout",
     "output_type": "stream",
     "text": [
      "1\n",
      "2\n",
      "3\n",
      "4\n"
     ]
    }
   ],
   "source": [
    "for i in range(1, 5):\n",
    "    print(i)"
   ]
  },
  {
   "cell_type": "code",
   "execution_count": 25,
   "metadata": {},
   "outputs": [
    {
     "data": {
      "text/plain": [
       "[]"
      ]
     },
     "execution_count": 25,
     "metadata": {},
     "output_type": "execute_result"
    }
   ],
   "source": [
    "list(range(0, -4))"
   ]
  },
  {
   "cell_type": "code",
   "execution_count": null,
   "metadata": {},
   "outputs": [],
   "source": []
  }
 ],
 "metadata": {
  "kernelspec": {
   "display_name": "base",
   "language": "python",
   "name": "python3"
  },
  "language_info": {
   "codemirror_mode": {
    "name": "ipython",
    "version": 3
   },
   "file_extension": ".py",
   "mimetype": "text/x-python",
   "name": "python",
   "nbconvert_exporter": "python",
   "pygments_lexer": "ipython3",
   "version": "3.11.5"
  }
 },
 "nbformat": 4,
 "nbformat_minor": 2
}
