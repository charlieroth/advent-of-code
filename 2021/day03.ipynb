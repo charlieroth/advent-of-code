{
 "cells": [
  {
   "cell_type": "code",
   "execution_count": 2,
   "metadata": {},
   "outputs": [],
   "source": [
    "def read_input(path):\n",
    "    with open(path) as file:\n",
    "        input = file.read()\n",
    "        lines = [line for line in input.split('\\n')]\n",
    "        return lines"
   ]
  },
  {
   "cell_type": "code",
   "execution_count": 26,
   "metadata": {},
   "outputs": [],
   "source": [
    "def common_bit_for_position(position, bits):\n",
    "    count = 0\n",
    "    for bit in bits:\n",
    "        if bit[position] == '1':\n",
    "            count += 1\n",
    "        else:\n",
    "            count -= 1\n",
    "    \n",
    "    if count >= 0:\n",
    "        return '1'\n",
    "    return '0'"
   ]
  },
  {
   "cell_type": "code",
   "execution_count": 27,
   "metadata": {},
   "outputs": [],
   "source": [
    "def least_common_bit_for_position(position, bits):\n",
    "    count = 0\n",
    "    for bit in bits:\n",
    "        if bit[position] == '1':\n",
    "            count += 1\n",
    "        else:\n",
    "            count -= 1\n",
    "    \n",
    "    if count >= 0:\n",
    "        return '0'\n",
    "    return '1'"
   ]
  },
  {
   "cell_type": "code",
   "execution_count": 28,
   "metadata": {},
   "outputs": [],
   "source": [
    "def binary_to_decimal(binary):\n",
    "    decimal = 0\n",
    "    for i in range(len(binary)):\n",
    "        if binary[i] == '1':\n",
    "            decimal += 2 ** (len(binary) - i - 1)\n",
    "    return decimal"
   ]
  },
  {
   "cell_type": "code",
   "execution_count": 32,
   "metadata": {},
   "outputs": [],
   "source": [
    "def part_one(bits):\n",
    "    gamma_bits, epsilon_bits = '', ''\n",
    "    for position in range(len(bits[0])):\n",
    "        gamma_bits += common_bit_for_position(position, bits)\n",
    "        epsilon_bits += least_common_bit_for_position(position, bits)\n",
    "\n",
    "    return binary_to_decimal(gamma_bits) * binary_to_decimal(epsilon_bits)"
   ]
  },
  {
   "cell_type": "code",
   "execution_count": 35,
   "metadata": {},
   "outputs": [
    {
     "data": {
      "text/plain": [
       "2003336"
      ]
     },
     "execution_count": 35,
     "metadata": {},
     "output_type": "execute_result"
    }
   ],
   "source": [
    "part_one_solution = part_one(read_input('inputs/day03.txt'))\n",
    "part_one_solution"
   ]
  },
  {
   "cell_type": "code",
   "execution_count": 37,
   "metadata": {},
   "outputs": [
    {
     "ename": "IndexError",
     "evalue": "list index out of range",
     "output_type": "error",
     "traceback": [
      "\u001b[0;31m---------------------------------------------------------------------------\u001b[0m",
      "\u001b[0;31mIndexError\u001b[0m                                Traceback (most recent call last)",
      "Cell \u001b[0;32mIn[37], line 31\u001b[0m\n\u001b[1;32m     26\u001b[0m     c02_scrubber_rating \u001b[39m=\u001b[39m bits_copy[\u001b[39m0\u001b[39m]\n\u001b[1;32m     28\u001b[0m     \u001b[39mreturn\u001b[39;00m oxygen_rating \u001b[39m*\u001b[39m c02_scrubber_rating\n\u001b[0;32m---> 31\u001b[0m part_two_solution \u001b[39m=\u001b[39m part_two(read_input(\u001b[39m'\u001b[39;49m\u001b[39minputs/day03.txt\u001b[39;49m\u001b[39m'\u001b[39;49m))\n\u001b[1;32m     32\u001b[0m \u001b[39mprint\u001b[39m(\u001b[39mf\u001b[39m\u001b[39m'\u001b[39m\u001b[39mpart two: \u001b[39m\u001b[39m{\u001b[39;00mpart_two_solution\u001b[39m}\u001b[39;00m\u001b[39m'\u001b[39m)\n",
      "Cell \u001b[0;32mIn[37], line 26\u001b[0m, in \u001b[0;36mpart_two\u001b[0;34m(bits)\u001b[0m\n\u001b[1;32m     23\u001b[0m         \u001b[39mbreak\u001b[39;00m\n\u001b[1;32m     24\u001b[0m     position \u001b[39m+\u001b[39m\u001b[39m=\u001b[39m \u001b[39m1\u001b[39m\n\u001b[0;32m---> 26\u001b[0m c02_scrubber_rating \u001b[39m=\u001b[39m bits_copy[\u001b[39m0\u001b[39;49m]\n\u001b[1;32m     28\u001b[0m \u001b[39mreturn\u001b[39;00m oxygen_rating \u001b[39m*\u001b[39m c02_scrubber_rating\n",
      "\u001b[0;31mIndexError\u001b[0m: list index out of range"
     ]
    }
   ],
   "source": [
    "def part_two(bits):\n",
    "    # oxygen rating\n",
    "    bits_copy = bits[:]\n",
    "    position = 0\n",
    "    bit_len = len(bits[0])\n",
    "    while position < bit_len and len(bits_copy) > 1:\n",
    "        common_bit = common_bit_for_position(position, bits_copy)\n",
    "        bits_copy = [bit for bit in bits_copy if bit[position] == common_bit]\n",
    "        if len(bits_copy) == 1:\n",
    "            break\n",
    "        position += 1\n",
    "\n",
    "    oxygen_rating = bits_copy[0]\n",
    "\n",
    "    # c02 scrubber rating\n",
    "    bits_copy = bits[:]\n",
    "    position = 0\n",
    "    bit_len = len(bits[0])\n",
    "    while position < bit_len and len(bits_copy) > 1:\n",
    "        least_common_bit = least_common_bit_for_position(position, bits_copy)\n",
    "        bits_copy = [bit for bit in bits_copy if bit[position] == least_common_bit]\n",
    "        if len(bits_copy) == 1:\n",
    "            break\n",
    "        position += 1\n",
    "        \n",
    "    c02_scrubber_rating = bits_copy[0]\n",
    "\n",
    "    return oxygen_rating * c02_scrubber_rating\n",
    "        \n",
    "\n",
    "part_two_solution = part_two(read_input('inputs/day03.txt'))\n",
    "print(f'part two: {part_two_solution}')"
   ]
  },
  {
   "cell_type": "code",
   "execution_count": null,
   "metadata": {},
   "outputs": [],
   "source": []
  }
 ],
 "metadata": {
  "kernelspec": {
   "display_name": "base",
   "language": "python",
   "name": "python3"
  },
  "language_info": {
   "codemirror_mode": {
    "name": "ipython",
    "version": 3
   },
   "file_extension": ".py",
   "mimetype": "text/x-python",
   "name": "python",
   "nbconvert_exporter": "python",
   "pygments_lexer": "ipython3",
   "version": "3.10.6"
  },
  "orig_nbformat": 4
 },
 "nbformat": 4,
 "nbformat_minor": 2
}
