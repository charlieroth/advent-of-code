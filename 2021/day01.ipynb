{
 "cells": [
  {
   "cell_type": "code",
   "execution_count": 18,
   "metadata": {},
   "outputs": [],
   "source": [
    "def read_input(path):\n",
    "    with open(path) as file:\n",
    "        input = file.read()\n",
    "        numbers = [int(n) for n in input.split()]\n",
    "        return numbers"
   ]
  },
  {
   "cell_type": "code",
   "execution_count": 19,
   "metadata": {},
   "outputs": [
    {
     "name": "stdout",
     "output_type": "stream",
     "text": [
      "1228\n"
     ]
    }
   ],
   "source": [
    "def part_one(numbers):\n",
    "    increments = 0\n",
    "    prev = numbers[0]\n",
    "    \n",
    "    for i in range(1, len(numbers)):\n",
    "        if numbers[i] > prev:\n",
    "            increments += 1\n",
    "        prev = numbers[i]\n",
    "\n",
    "    return increments\n",
    "\n",
    "\n",
    "numbers = read_input('inputs/day01.txt')\n",
    "increments = part_one(numbers)\n",
    "print(increments)"
   ]
  },
  {
   "cell_type": "code",
   "execution_count": 21,
   "metadata": {},
   "outputs": [
    {
     "name": "stdout",
     "output_type": "stream",
     "text": [
      "1257\n"
     ]
    }
   ],
   "source": [
    "def part_two(numbers):    \n",
    "    increments = 0\n",
    "    prev_window = (numbers[0], numbers[1], numbers[2])\n",
    "    for i in range(3, len(numbers)):\n",
    "        window = (prev_window[1], prev_window[2], numbers[i])\n",
    "        if sum(window) > sum(prev_window):\n",
    "            increments += 1\n",
    "        prev_window = window\n",
    "\n",
    "    return increments\n",
    "\n",
    "numbers = read_input('inputs/day01.txt')\n",
    "increments = part_two(numbers)\n",
    "print(increments)"
   ]
  },
  {
   "cell_type": "code",
   "execution_count": null,
   "metadata": {},
   "outputs": [],
   "source": []
  }
 ],
 "metadata": {
  "kernelspec": {
   "display_name": "base",
   "language": "python",
   "name": "python3"
  },
  "language_info": {
   "codemirror_mode": {
    "name": "ipython",
    "version": 3
   },
   "file_extension": ".py",
   "mimetype": "text/x-python",
   "name": "python",
   "nbconvert_exporter": "python",
   "pygments_lexer": "ipython3",
   "version": "3.10.6"
  },
  "orig_nbformat": 4
 },
 "nbformat": 4,
 "nbformat_minor": 2
}
