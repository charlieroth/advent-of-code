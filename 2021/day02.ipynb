{
 "cells": [
  {
   "cell_type": "code",
   "execution_count": 6,
   "metadata": {},
   "outputs": [],
   "source": [
    "def read_input(path):\n",
    "    with open(path) as file:\n",
    "        input = file.read()\n",
    "        lines = [line.split(' ') for line in input.split('\\n')]\n",
    "        return lines"
   ]
  },
  {
   "cell_type": "code",
   "execution_count": 27,
   "metadata": {},
   "outputs": [
    {
     "name": "stdout",
     "output_type": "stream",
     "text": [
      "part one: 2019945\n"
     ]
    }
   ],
   "source": [
    "def part_one(lines):\n",
    "    h, d = 0, 0\n",
    "    for line in lines:\n",
    "        if len(line) != 2:\n",
    "            continue\n",
    "\n",
    "        direction, units = line[0], int(line[1])\n",
    "        if direction == 'forward':\n",
    "            h += units\n",
    "        elif direction == 'up':\n",
    "            d -= units\n",
    "        elif direction == 'down':\n",
    "            d += units\n",
    "        else:\n",
    "            continue\n",
    "    \n",
    "    return h * d\n",
    "\n",
    "lines = read_input('inputs/day02.txt')\n",
    "part_one_solution = part_one(lines)\n",
    "print(f'part one: {part_one_solution}')"
   ]
  },
  {
   "cell_type": "code",
   "execution_count": 28,
   "metadata": {},
   "outputs": [
    {
     "name": "stdout",
     "output_type": "stream",
     "text": [
      "part two: 1599311480\n"
     ]
    }
   ],
   "source": [
    "def part_two(lines):\n",
    "    h, d, aim = 0, 0, 0\n",
    "    for line in lines:\n",
    "        if len(line) != 2:\n",
    "            continue\n",
    "\n",
    "        direction, units = line[0], int(line[1])\n",
    "        if direction == 'forward':\n",
    "            h += units\n",
    "            d += aim * units\n",
    "        elif direction == 'up':\n",
    "            aim -= units\n",
    "        elif direction == 'down':\n",
    "            aim += units\n",
    "        else:\n",
    "            continue\n",
    "    \n",
    "    return h * d\n",
    "\n",
    "lines = read_input('inputs/day02.txt')\n",
    "part_two_solution = part_two(lines)\n",
    "print(f'part two: {part_two_solution}')"
   ]
  },
  {
   "cell_type": "code",
   "execution_count": null,
   "metadata": {},
   "outputs": [],
   "source": []
  }
 ],
 "metadata": {
  "kernelspec": {
   "display_name": "base",
   "language": "python",
   "name": "python3"
  },
  "language_info": {
   "codemirror_mode": {
    "name": "ipython",
    "version": 3
   },
   "file_extension": ".py",
   "mimetype": "text/x-python",
   "name": "python",
   "nbconvert_exporter": "python",
   "pygments_lexer": "ipython3",
   "version": "3.10.6"
  },
  "orig_nbformat": 4
 },
 "nbformat": 4,
 "nbformat_minor": 2
}
